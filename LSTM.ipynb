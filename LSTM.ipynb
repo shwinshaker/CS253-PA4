{
 "cells": [
  {
   "cell_type": "code",
   "execution_count": 221,
   "metadata": {},
   "outputs": [
    {
     "data": {
      "text/plain": [
       "<torch._C.Generator at 0x12a52fab0>"
      ]
     },
     "execution_count": 221,
     "metadata": {},
     "output_type": "execute_result"
    }
   ],
   "source": [
    "import utils as ut\n",
    "import torch\n",
    "from torch.utils.data import DataLoader\n",
    "import torch.nn as nn\n",
    "from torch.nn import functional as F\n",
    "from torch.autograd import Variable\n",
    "from music_dataloader import createLoaders\n",
    "import numpy as np\n",
    "import time\n",
    "\n",
    "torch.manual_seed(7)"
   ]
  },
  {
   "cell_type": "code",
   "execution_count": 222,
   "metadata": {},
   "outputs": [],
   "source": [
    "def preprocessing():\n",
    "    \n",
    "    # Check if your system supports CUDA\n",
    "    use_cuda = torch.cuda.is_available()\n",
    "\n",
    "    # Setup GPU optimization if CUDA is supported\n",
    "    if use_cuda:\n",
    "        computing_device = torch.device(\"cuda\")\n",
    "        extras = {\"num_workers\": 1, \"pin_memory\": True}\n",
    "        print(\"CUDA is supported\")\n",
    "    else: # Otherwise, train on the CPU\n",
    "        computing_device = torch.device(\"cpu\")\n",
    "        extras = False\n",
    "        print(\"CUDA NOT supported\")\n",
    "\n",
    "    # load data\n",
    "    loaders, encoder = createLoaders(extras=extras)\n",
    "    dataloaders = dict(zip(['train', 'val', 'test'], loaders))\n",
    "    for phase in dataloaders:\n",
    "        print('%s size: %i' % (phase, len(dataloaders[phase])))\n",
    "    \n",
    "    return dataloaders, encoder"
   ]
  },
  {
   "cell_type": "code",
   "execution_count": 203,
   "metadata": {
    "scrolled": true
   },
   "outputs": [],
   "source": [
    "class Composer(nn.Module):\n",
    "    \n",
    "    def __init__(self, dim=93, hidden_dim=150):\n",
    "        super(Composer, self).__init__()\n",
    "        self.dim = dim\n",
    "        self.hidden_dim = hidden_dim\n",
    "        self.lstm = nn.LSTM(input_size=dim, hidden_size=hidden_dim,\n",
    "                            batch_first=True)\n",
    "        self.linear = nn.Linear(hidden_dim, dim)\n",
    "        self.hidden = self._init_hidden()\n",
    "        \n",
    "    def _init_hidden(self):\n",
    "        return [torch.zeros([1, 1, self.hidden_dim]),\n",
    "                torch.zeros([1, 1, self.hidden_dim])]\n",
    "    \n",
    "    def forward(self, chunk):\n",
    "        assert(chunk.shape[0]==1)\n",
    "        # assert(chunk.shape[1]==100)\n",
    "        assert(chunk.shape[2]==93)\n",
    "        self.hidden = [h.detach() for h in self.hidden]\n",
    "        output, self.hidden = self.lstm(chunk, self.hidden)\n",
    "        opt_chunk = self.linear(output.view(chunk.shape[1], -1))\n",
    "        return opt_chunk # output\n",
    "    \n",
    "    \n",
    "class Evaluation():\n",
    "    def __init__(self):\n",
    "        self.loss = .0\n",
    "        self.count = 0\n",
    "        self.losses = []\n",
    "        self.count_save = 0\n",
    "        \n",
    "    def __call__(self, loss, outputs):\n",
    "        \n",
    "        loss_ = loss.detach().numpy()\n",
    "        outputs_ = outputs.detach().numpy().squeeze()\n",
    "        # print(outputs_.shape)\n",
    "        assert(outputs_.shape[0]==100)\n",
    "        \n",
    "        chunk_size = outputs_.shape[0]\n",
    "        self.loss += loss_ * chunk_size\n",
    "        self.count += chunk_size\n",
    "        \n",
    "    def avg_loss(self):\n",
    "        return self.loss / self.count\n",
    "        \n",
    "    def save(self):\n",
    "        self.count_save += 1\n",
    "        self.losses.append(self.avg_loss())\n",
    "        \n",
    "    \n",
    "def build_model(input_dim=93, learning_rate=0.1):\n",
    "    \n",
    "    model = Composer(dim=input_dim)\n",
    "    criterion = nn.CrossEntropyLoss()\n",
    "    optimizer = torch.optim.SGD(model.parameters(), lr=learning_rate)\n",
    "    # optimizer = torch.optim.Adam(model.parameters(), lr=learning_rate)\n",
    "    \n",
    "    return model, criterion, optimizer\n",
    "    \n",
    "    \n",
    "def train_model(model, criterion, optimizer, dataloaders, \n",
    "                num_epochs=1, start_epoch=1):\n",
    "    # init timer\n",
    "    since = time.time()\n",
    "    \n",
    "    # init evaluator\n",
    "    evaluators = {'train': Evaluation(), 'val': Evaluation()}\n",
    "    \n",
    "    for epoch in range(start_epoch, num_epochs+1):\n",
    "        print('\\nEpoch {}/{}'.format(epoch, num_epochs))\n",
    "        print('-' * 10)\n",
    "        \n",
    "        ## reset evaluate in each epoch\n",
    "        for phase in evaluators:\n",
    "             evaluators[phase].count_save = 0\n",
    "        \n",
    "        for i, (inputs, targets) in enumerate(dataloaders['train']):\n",
    "            \n",
    "            # clear out gradients\n",
    "            model.zero_grad()\n",
    "            \n",
    "            # regular stuff\n",
    "            outputs = model(inputs)\n",
    "            # squeeze the unnecessary batchsize dim\n",
    "            loss = criterion(outputs.squeeze(), targets.squeeze())\n",
    "            loss.backward()\n",
    "            optimizer.step()\n",
    "            \n",
    "            # evaluation\n",
    "            evaluators['train'](loss, outputs)\n",
    "            \n",
    "            # validate every n chunks\n",
    "            if i % 100 == 0:\n",
    "                # validate first\n",
    "                validate_model(model, criterion,\n",
    "                               dataloaders['val'],\n",
    "                               evaluators['val'])\n",
    "                \n",
    "                # save loss\n",
    "                for key in evaluators:\n",
    "                    evaluators[key].save()\n",
    "                    \n",
    "                print('[%i] '\n",
    "                      'train-loss: %.4f '\n",
    "                      'val-loss: %.4f '\n",
    "                      '' % (evaluators['train'].count_save-1,\n",
    "                            evaluators['train'].avg_loss(),\n",
    "                            evaluators['val'].avg_loss()))\n",
    "                \n",
    "            # test only\n",
    "            if i == 1000:\n",
    "                 break\n",
    "                \n",
    "    time_elapsed = time.time() - since\n",
    "    print('\\nTraining complete in {:.0f}m {:.0f}s'.format(time_elapsed // 60, time_elapsed % 60))    \n",
    "    return evaluators, model\n",
    "                \n",
    "\n",
    "# could also be use to test\n",
    "def validate_model(model, criterion, loader, evaluate):\n",
    "    \n",
    "    model.eval() # Set model to evaluate mode\n",
    "    \n",
    "    with torch.no_grad():\n",
    "        for j, (inputs, targets) in enumerate(loader):\n",
    "            outputs = model(inputs)\n",
    "            loss = criterion(outputs.squeeze(), targets.squeeze())\n",
    "            evaluate(loss, outputs)\n",
    "            if j == 2:\n",
    "                break # for test\n",
    "            \n",
    "    model.train() # Set model to training mode\n"
   ]
  },
  {
   "cell_type": "code",
   "execution_count": 205,
   "metadata": {},
   "outputs": [
    {
     "name": "stdout",
     "output_type": "stream",
     "text": [
      "CUDA NOT supported\n",
      "train size: 3799\n",
      "val size: 674\n",
      "test size: 540\n",
      "\n",
      "Epoch 1/1\n",
      "----------\n",
      "[0] train-loss: 4.5323 val-loss: 4.5303 \n",
      "[1] train-loss: 4.0834 val-loss: 4.3503 \n",
      "[2] train-loss: 3.8863 val-loss: 4.2380 \n",
      "[3] train-loss: 3.7267 val-loss: 4.2004 \n",
      "[4] train-loss: 3.6808 val-loss: 4.1645 \n",
      "[5] train-loss: 3.6710 val-loss: 4.1118 \n",
      "[6] train-loss: 3.6654 val-loss: 4.0799 \n",
      "[7] train-loss: 3.6220 val-loss: 4.0887 \n",
      "[8] train-loss: 3.5948 val-loss: 4.0855 \n",
      "[9] train-loss: 3.5628 val-loss: 4.0810 \n",
      "[10] train-loss: 3.5589 val-loss: 4.0685 \n",
      "\n",
      "Training complete in 0m 50s\n"
     ]
    }
   ],
   "source": [
    "dataloaders, encoder = preprocessing()\n",
    "evaluators, model = train_model(*build_model(input_dim=encoder.length, \n",
    "                                             learning_rate=0.1), \n",
    "                                 dataloaders)"
   ]
  },
  {
   "cell_type": "code",
   "execution_count": 246,
   "metadata": {},
   "outputs": [],
   "source": [
    "def generate_music(model, encoder, length=100):\n",
    "    \n",
    "    # evaluation mode\n",
    "    model.eval()\n",
    "    \n",
    "    # init_hidden\n",
    "    # model.hidden = model._init_hidden()\n",
    "    \n",
    "    # init note\n",
    "    init_notes = load_input_label('pa4Data/test.txt')[0][:110] #'<start>\\nX:19\\nT:Dusty Miller, The'\n",
    "    init_seq = []\n",
    "    for w in init_notes:\n",
    "        init_seq.append(encoder.get_one_hot(w))\n",
    "        \n",
    "    init_seq = torch.tensor(init_seq, dtype=torch.float)\n",
    "    init_seq = init_seq.view(1,len(init_seq),-1)\n",
    "    # print(init_seq)\n",
    "    \n",
    "    def _get_indices(output, temperature=1):\n",
    "        # print(output.squeeze().shape)\n",
    "        # F.softmax(output, dim=2).detach().numpy().argsort(axis=2)\n",
    "        dim = output.shape[1]\n",
    "        opt_soft = F.softmax(output / temperature, \n",
    "                             dim=1).detach().numpy()\n",
    "        # ind = np.argmax(opt_soft, axis=1)\n",
    "        inds = []\n",
    "        for opt in opt_soft:\n",
    "            assert(opt.shape==(93,))\n",
    "            inds.append(np.random.choice(dim, 1, p=opt).squeeze())\n",
    "        # print(inds)\n",
    "        return inds\n",
    "    \n",
    "    def _to_input(output):\n",
    "        characters = []\n",
    "        inputs = []\n",
    "        for ind in _get_indices(output):\n",
    "            character = encoder.get_character(ind)\n",
    "            characters.append(character)\n",
    "            inputs.append(encoder.get_one_hot(character))\n",
    "        inputs = torch.tensor(inputs, dtype=torch.float)\n",
    "        inputs = inputs.view(1, len(characters), -1)\n",
    "        # print(characters)\n",
    "        assert(inputs.shape[-1] == 93)\n",
    "        return characters, inputs\n",
    "    \n",
    "    notes = []\n",
    "    with torch.no_grad():\n",
    "        outputs = model(init_seq)\n",
    "        characters, inputs = _to_input(outputs)\n",
    "        notes.extend(characters)\n",
    "        # pick the last one\n",
    "        input = inputs[:, -1, :].view(1, 1, -1)\n",
    "        # print(input)\n",
    "        for _ in range(length):\n",
    "            output = model(input)\n",
    "            # print(output.squeeze().detach().numpy())\n",
    "            character, input = _to_input(output)\n",
    "            notes.extend(character)\n",
    "            # notes.append(encoder.get_character(_get_index(output)))\n",
    "    \n",
    "    return ''.join(notes)"
   ]
  },
  {
   "cell_type": "code",
   "execution_count": 248,
   "metadata": {
    "scrolled": true
   },
   "outputs": [
    {
     "data": {
      "text/plain": [
       "'rgzG  ce/B  dn?\\n 2d4r/d 4c >Au\\neu\\\\f e:ro: bddE2BG : g/ |/|e:A| (|c| :VdeA  C|oc|: 2|/n  :C2eAsc:fd?u : en F uubc/1 A3/2(uc o 40Mt c|cBAZ ct/ lt: /orc !a ec2B>0i c8e o|c u/.2>vezac|Bc idfP Dcd r://c)doAf>32 P|id z B  ||le- c|B1)\\n eAd3tg T/|/@|  (BF4dn^2e p O|!e>a0e\\n3c A/\\n#GalfrB/=cDf5o/ 4 /a d0i\\n e >(GfoecBc c'"
      ]
     },
     "execution_count": 248,
     "metadata": {},
     "output_type": "execute_result"
    }
   ],
   "source": [
    "generate_music(model, encoder, length=200)"
   ]
  },
  {
   "cell_type": "code",
   "execution_count": 249,
   "metadata": {},
   "outputs": [
    {
     "data": {
      "image/png": "[encoded data removed]",
      "text/plain": [
       "<Figure size 432x288 with 1 Axes>"
      ]
     },
     "metadata": {
      "needs_background": "light"
     },
     "output_type": "display_data"
    }
   ],
   "source": [
    "import matplotlib.pyplot as plt\n",
    "\n",
    "plt.plot(evaluators['train'].losses, '.-', label='train')\n",
    "plt.plot(evaluators['val'].losses, '.-', label='val')\n",
    "plt.legend()\n",
    "plt.ylabel('loss')\n",
    "plt.show()"
   ]
  },
  {
   "cell_type": "markdown",
   "metadata": {},
   "source": [
    "### for test"
   ]
  },
  {
   "cell_type": "code",
   "execution_count": 170,
   "metadata": {},
   "outputs": [
    {
     "name": "stdout",
     "output_type": "stream",
     "text": [
      "[[[76 58 45 51 83 69 52 73 89 85 31 74 88 60 80 92 42 90 63 70 68 84 35\n",
      "   77 66 75 91 72 61 82  7 78 30 36 86 87 81 24 64 19 46 43 38 67 65 79\n",
      "   40 34 47 71 44 12 41 57 55 22 62 37 13 25 39 32  0 10  9  1 26 56  2\n",
      "   15 54 29 17  4 27 14 23 48  5 49 16  3  8 21 20  6 50 28 59 18 33 53\n",
      "   11]\n",
      "  [45 51 58 85 76 83 90 73 42 88 89 74 52 80 69 68 92 84 31 66 70 91 60\n",
      "   30 35 72 77 63 75 36  7 78 87 61 24 86 81 82 43 46 38 19 64 34 67 40\n",
      "   79 65 47 71 44 12 57 41 55 37 62 22 13 25 39 32  0 10  9  1 26 15 56\n",
      "   54 29  2  4 27 14 17 48 23  5 49 16  3  8 21 20  6 50 28 59 33 18 53\n",
      "   11]\n",
      "  [45 76 58 85 51 83 73 80 90 92 74 69 89 42 31 52 63 60 88 35 66 77 84\n",
      "   68 91 70  7 75 61 72 36 30 78 82 24 86 87 81 64 19 46 43 38 67 65 34\n",
      "   79 44 40 12 71 47 57 41 55 22 62 25 37 13 39  0 32 10  9  1 15 26 56\n",
      "    2 54 29  4 27 14 17 48 23  5 49 16  3  8 21  6 20 50 28 59 18 33 53\n",
      "   11]\n",
      "  [76 58 74 83 51 45 89 42 85 88 52 90 73 69 84 80 70 68 31 92 77 66 60\n",
      "   86 30 91  7 36 63 78 61 35 75 72 81 82 87 24 46 19 67 64 43 38 65 34\n",
      "   79 12 47 40 71 44 41 57 55 62 13 22 37 25 39 32  0 10  9  1 26 56  2\n",
      "   54 29 14 27  4 17 15 48 23  5 49 16  3  8 21 20  6 50 28 59 18 33 53\n",
      "   11]\n",
      "  [45 58 74 69 51 76 89 92 42 52 83 90 85 73 68 60 88 63 35 80  7 91 84\n",
      "   66 61 77 31 72 75 70 30 82 36 78 86 87 24 81 64 46 67 43 38 19 65 79\n",
      "   40 34 47 71 44 12 57 41 62 55 37 22 13 25 39  0 32 10  9 26  1 56  2\n",
      "   54 29  4 27 14 15 17 23 48  5 49 16  3  8 21 20  6 50 28 59 18 33 53\n",
      "   11]\n",
      "  [45 58 76 85 51 83 92 73 90 69 74 80 89 42 52 31 60 63 35 88 68 84 66\n",
      "   77 91  7 70 61 75 72 36 30 82 24 78 86 87 81 64 19 43 46 38 67 79 65\n",
      "   34 44 40 12 71 47 57 41 55 22 62 25 37 13 39  0 32 10  9  1 26 15 56\n",
      "    2 54 29  4 27 14 17 48 23  5 49 16  3  8 21  6 20 50 28 59 18 33 53\n",
      "   11]\n",
      "  [58 76 83 51 45 89 74 69 90 80 85 88 52 31 92 84 73 42 60 66 91 63 68\n",
      "   72 70 86 36 82  7 61 78 35 77 30 75 81 24 87 38 46 19 43 64 67 40 65\n",
      "   79 44 34 47 12 71 57 41 55 22 62 25 37 13 39 32  0 10  9 15  1 26  2\n",
      "   56 29 54 17 14  4 27 48 23  5 49 16  3  8 21 20  6 50 28 59 18 33 53\n",
      "   11]]]\n"
     ]
    },
    {
     "data": {
      "text/plain": [
       "array([11, 11, 11, 11, 11, 11, 11])"
      ]
     },
     "execution_count": 170,
     "metadata": {},
     "output_type": "execute_result"
    }
   ],
   "source": [
    "# init note\n",
    "init_notes = '<start>'\n",
    "init_seq = []\n",
    "for w in init_notes:\n",
    "    init_seq.append(encoder.get_one_hot(w))\n",
    "\n",
    "init_seq = torch.tensor(init_seq, dtype=torch.float)\n",
    "init_seq = init_seq.view(1,len(init_seq),-1)\n",
    "\n",
    "outputs, model.hidden = model.lstm(init_seq, model.hidden)\n",
    "# print(outputs)\n",
    "# np.argmax(F.softmax(model.lstm(output.view(1,1,-1), model.hidden)[0].squeeze(), dim=0).detach().numpy())\n",
    "\n",
    "print(F.softmax(outputs, dim=2).detach().numpy().argsort(axis=2))\n",
    "# torch.argmax\n",
    "# print(len(torch.argmax(F.softmax(outputs, dim=2).detach(), dim=2).apply_(lambda x: x**2)))\n",
    "np.argmax(F.softmax(outputs, dim=2).squeeze().detach().numpy(), axis=1)"
   ]
  },
  {
   "cell_type": "code",
   "execution_count": null,
   "metadata": {},
   "outputs": [],
   "source": [
    "lstm = nn.LSTM(93,93, batch_first=True)\n",
    "hidden = (torch.zeros([1, 1, 93]),\n",
    "          torch.zeros([1, 1, 93]))\n",
    "criterion = nn.CrossEntropyLoss()\n",
    "for i, (chunk, target) in enumerate(train_loader):\n",
    "\n",
    "    # print('-',chunk.shape)\n",
    "    output, (h,c) = lstm(chunk, hidden)\n",
    "    loss = criterion(output.squeeze(), target.squeeze())\n",
    "    loss.backward()\n",
    "    if i == 20:\n",
    "        break"
   ]
  },
  {
   "cell_type": "code",
   "execution_count": null,
   "metadata": {},
   "outputs": [],
   "source": []
  }
 ],
 "metadata": {
  "kernelspec": {
   "display_name": "CS253",
   "language": "python",
   "name": "cs253"
  },
  "language_info": {
   "codemirror_mode": {
    "name": "ipython",
    "version": 3
   },
   "file_extension": ".py",
   "mimetype": "text/x-python",
   "name": "python",
   "nbconvert_exporter": "python",
   "pygments_lexer": "ipython3",
   "version": "3.6.7"
  }
 },
 "nbformat": 4,
 "nbformat_minor": 2
}
