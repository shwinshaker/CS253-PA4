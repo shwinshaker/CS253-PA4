{
 "cells": [
  {
   "cell_type": "code",
   "execution_count": 1,
   "metadata": {},
   "outputs": [],
   "source": [
    "import utils\n",
    "from music_dataloader import *"
   ]
  },
  {
   "cell_type": "code",
   "execution_count": 2,
   "metadata": {},
   "outputs": [],
   "source": [
    "chunk_size = 100\n",
    "encoder = utils.String_Encoder()\n",
    "# load training, validation and test text\n",
    "train_input, train_target = load_input_label('pa4Data/train.txt')\n",
    "val_input, val_target = load_input_label('pa4Data/val.txt')\n",
    "test_input, test_target = load_input_label('pa4Data/test.txt')\n",
    "encoder.encode(train_input)\n",
    "train_input = toChunk(chunk_size, train_input)\n",
    "train_target = toChunk(chunk_size, train_target)\n",
    "val_input = toChunk(chunk_size, val_input)\n",
    "val_target = toChunk(chunk_size, val_target)\n",
    "test_input = toChunk(chunk_size, test_input)\n",
    "test_target = toChunk(chunk_size, test_target)\n",
    "\n",
    "# Convert into dataloader\n",
    "train_dataset = musicDataset(train_input, train_target, encoder)\n",
    "val_dataset = musicDataset(val_input, val_target, encoder)\n",
    "test_dataset = musicDataset(test_input, test_target, encoder)\n",
    "\n"
   ]
  },
  {
   "cell_type": "code",
   "execution_count": 5,
   "metadata": {},
   "outputs": [
    {
     "data": {
      "text/plain": [
       "(tensor([[1., 0., 0.,  ..., 0., 0., 0.],\n",
       "         [0., 1., 0.,  ..., 0., 0., 0.],\n",
       "         [0., 0., 1.,  ..., 0., 0., 0.],\n",
       "         ...,\n",
       "         [0., 0., 0.,  ..., 0., 0., 0.],\n",
       "         [0., 0., 0.,  ..., 0., 0., 0.],\n",
       "         [0., 0., 0.,  ..., 0., 0., 0.]], dtype=torch.float64),\n",
       " tensor([[0., 1., 0.,  ..., 0., 0., 0.],\n",
       "         [0., 0., 1.,  ..., 0., 0., 0.],\n",
       "         [0., 0., 0.,  ..., 0., 0., 0.],\n",
       "         ...,\n",
       "         [0., 0., 0.,  ..., 0., 0., 0.],\n",
       "         [0., 0., 0.,  ..., 0., 0., 0.],\n",
       "         [0., 0., 0.,  ..., 0., 0., 0.]], dtype=torch.float64))"
      ]
     },
     "execution_count": 5,
     "metadata": {},
     "output_type": "execute_result"
    }
   ],
   "source": [
    "train_dataset[0]"
   ]
  },
  {
   "cell_type": "code",
   "execution_count": 10,
   "metadata": {},
   "outputs": [
    {
     "data": {
      "text/plain": [
       "\"<start>\\nX:19\\nT:Dusty Miller, The\\nR:hop jig\\nD:Tommy Keane: The Piper's Apron\\nZ:id:hn-slipjig-19\\nM:9/8\\nK:D\\n~A3 A\""
      ]
     },
     "execution_count": 10,
     "metadata": {},
     "output_type": "execute_result"
    }
   ],
   "source": [
    "load_input_label('pa4Data/test.txt')[0][:110]"
   ]
  },
  {
   "cell_type": "code",
   "execution_count": 11,
   "metadata": {},
   "outputs": [],
   "source": [
    "# old ones, with no linear layer\n",
    "def generate_music(model, length, encoder):\n",
    "    \n",
    "    # evaluation mode\n",
    "    model.eval()\n",
    "    \n",
    "    # init_hidden\n",
    "    # model.hidden = model._init_hidden()\n",
    "    \n",
    "    # init note\n",
    "    init_notes = load_input_label('pa4Data/test.txt')[0][:110] #'<start>\\nX:19\\nT:Dusty Miller, The'\n",
    "    init_seq = []\n",
    "    for w in init_notes:\n",
    "        init_seq.append(encoder.get_one_hot(w))\n",
    "        \n",
    "    init_seq = torch.tensor(init_seq, dtype=torch.float)\n",
    "    init_seq = init_seq.view(1,len(init_seq),-1)\n",
    "    # print(init_seq)\n",
    "    \n",
    "    def _get_indices(output):\n",
    "        # print(output.squeeze().shape)\n",
    "        # F.softmax(output, dim=2).detach().numpy().argsort(axis=2)\n",
    "        ind = np.argmax(F.softmax(output,\n",
    "                                  dim=2).detach().numpy(), \n",
    "                        axis=2)\n",
    "        print(ind)\n",
    "        return ind\n",
    "    \n",
    "    def _to_input(output):\n",
    "        characters = []\n",
    "        inputs = []\n",
    "        for ind in _get_indices(output)[0]:\n",
    "            character = encoder.get_character(ind)\n",
    "            characters.append(character)\n",
    "            inputs.append(encoder.get_one_hot(character))\n",
    "        inputs = torch.tensor(inputs, dtype=torch.float)\n",
    "        inputs = inputs.view(1, len(characters), -1)\n",
    "        # character = encoder.get_character(_get_indices(output))     \n",
    "#         input = encoder.get_one_hot(character)\n",
    "#         input = torch.tensor(input, dtype=torch.float)\n",
    "#         input = input.view(1, 1, -1)\n",
    "        print(characters)\n",
    "        assert(inputs.shape[-1] == 93)\n",
    "        return characters, inputs\n",
    "    \n",
    "    notes = []\n",
    "    with torch.no_grad():\n",
    "        outputs, model.hidden = model.lstm(init_seq, model.hidden)\n",
    "        characters, inputs = _to_input(outputs)\n",
    "        notes.extend(characters)\n",
    "        # pick the last one\n",
    "        # print(inputs)\n",
    "        input = inputs[:, -1, :].view(1, 1, -1)\n",
    "        # print(input)\n",
    "        for _ in range(length):\n",
    "            model.hidden = [h.detach() for h in model.hidden]\n",
    "            output, model.hidden = model.lstm(input, model.hidden)\n",
    "            # print(output.squeeze().detach().numpy())\n",
    "            character, input = _to_input(output)\n",
    "            notes.extend(character)\n",
    "            # notes.append(encoder.get_character(_get_index(output)))\n",
    "    \n",
    "    return notes"
   ]
  },
  {
   "cell_type": "code",
   "execution_count": null,
   "metadata": {},
   "outputs": [],
   "source": []
  }
 ],
 "metadata": {
  "kernelspec": {
   "display_name": "CS253",
   "language": "python",
   "name": "cs253"
  },
  "language_info": {
   "codemirror_mode": {
    "name": "ipython",
    "version": 3
   },
   "file_extension": ".py",
   "mimetype": "text/x-python",
   "name": "python",
   "nbconvert_exporter": "python",
   "pygments_lexer": "ipython3",
   "version": "3.6.7"
  }
 },
 "nbformat": 4,
 "nbformat_minor": 2
}
